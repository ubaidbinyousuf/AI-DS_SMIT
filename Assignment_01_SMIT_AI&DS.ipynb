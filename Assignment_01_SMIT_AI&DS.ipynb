{
  "nbformat": 4,
  "nbformat_minor": 0,
  "metadata": {
    "colab": {
      "provenance": []
    },
    "kernelspec": {
      "name": "python3",
      "display_name": "Python 3"
    },
    "language_info": {
      "name": "python"
    }
  },
  "cells": [
    {
      "cell_type": "code",
      "source": [
        "#Task  01\n",
        "print ('My Name is Ubaid', 'My age is 35', 'My Favorate color is Black', sep = '\\n')"
      ],
      "metadata": {
        "colab": {
          "base_uri": "https://localhost:8080/"
        },
        "id": "Phl-e0rm2S_E",
        "outputId": "cf8a47cd-af68-4323-e875-dd14295f3f05"
      },
      "execution_count": 25,
      "outputs": [
        {
          "output_type": "stream",
          "name": "stdout",
          "text": [
            "My Name is Ubaid\n",
            "My age is 35\n",
            "My Favorate color is Black\n"
          ]
        }
      ]
    },
    {
      "cell_type": "code",
      "source": [
        "#Task  02\n",
        "Name = 'Ubaid Bin Yousuf'\n",
        "Age = 35\n",
        "print ( Name, Age )"
      ],
      "metadata": {
        "colab": {
          "base_uri": "https://localhost:8080/"
        },
        "id": "_1CHcqdm29aS",
        "outputId": "6dfe722f-1c42-4a22-b24b-84831fc8efe9"
      },
      "execution_count": 26,
      "outputs": [
        {
          "output_type": "stream",
          "name": "stdout",
          "text": [
            "Ubaid Bin Yousuf 35\n"
          ]
        }
      ]
    },
    {
      "cell_type": "code",
      "source": [
        "#Task  03\n",
        "from typing import Counter\n",
        "City =  'Karachi'\n",
        "Country = 'Pakistan'\n",
        "print(f'I live in {City},{Country}')"
      ],
      "metadata": {
        "colab": {
          "base_uri": "https://localhost:8080/"
        },
        "id": "5lIvkWxa3vaS",
        "outputId": "20752b9f-bf39-4bac-bb16-05895ef79b4f"
      },
      "execution_count": 27,
      "outputs": [
        {
          "output_type": "stream",
          "name": "stdout",
          "text": [
            "I live in Karachi,Pakistan\n"
          ]
        }
      ]
    },
    {
      "cell_type": "code",
      "source": [
        "#Task  04\n",
        "a = 6\n",
        "b = 3\n",
        "print ('Sum = ',a+b)\n",
        "print ('Product = ',a*b)\n",
        "print ('Division = ',a/b)"
      ],
      "metadata": {
        "colab": {
          "base_uri": "https://localhost:8080/"
        },
        "id": "fD682ayo4MVl",
        "outputId": "b2eb9ea6-db76-424e-9470-eda375a90247"
      },
      "execution_count": 28,
      "outputs": [
        {
          "output_type": "stream",
          "name": "stdout",
          "text": [
            "Sum =  9\n",
            "Product =  18\n",
            "Division =  2.0\n"
          ]
        }
      ]
    },
    {
      "cell_type": "code",
      "execution_count": 29,
      "metadata": {
        "colab": {
          "base_uri": "https://localhost:8080/"
        },
        "id": "daCOE5tn2J_B",
        "outputId": "90da9f97-023c-489b-8c6c-88807616beb3"
      },
      "outputs": [
        {
          "output_type": "stream",
          "name": "stdout",
          "text": [
            "My name is Ubaid Bin Yousuf\n",
            "I am 33 year old\n",
            "My hobby is Reading Tech Articles\n"
          ]
        }
      ],
      "source": [
        "#Task  05\n",
        "a = 'Ubaid Bin Yousuf'\n",
        "b = 33\n",
        "\n",
        "c = 'Reading Tech Articles'\n",
        "print(f'My name is {a}', f'I am {b} year old', f'My hobby is {c}', sep = '\\n')"
      ]
    },
    {
      "cell_type": "code",
      "source": [
        "#Task  06\n",
        "a = 3\n",
        "b = 7\n",
        "print (a, b)\n",
        "\n",
        "temp = a\n",
        "a = b\n",
        "b = temp\n",
        "print (a, b)"
      ],
      "metadata": {
        "colab": {
          "base_uri": "https://localhost:8080/"
        },
        "id": "9eY8knf42ML6",
        "outputId": "dfd0e9be-141e-4908-9b4f-ed8773a4bb6e"
      },
      "execution_count": 30,
      "outputs": [
        {
          "output_type": "stream",
          "name": "stdout",
          "text": [
            "3 7\n",
            "7 3\n"
          ]
        }
      ]
    },
    {
      "cell_type": "code",
      "source": [
        "#Task  07\n",
        "celsius =  27\n",
        "fahrenheit = (celsius * 9/5) + 32\n",
        "print(f'Temperature in Celcius {celsius}', f'Temperature in Celcius {fahrenheit}', sep = '\\n')"
      ],
      "metadata": {
        "colab": {
          "base_uri": "https://localhost:8080/"
        },
        "id": "vY6t5rPD5uvJ",
        "outputId": "62b47197-2285-4adf-9729-2ac8386cab82"
      },
      "execution_count": 31,
      "outputs": [
        {
          "output_type": "stream",
          "name": "stdout",
          "text": [
            "Temperature in Celcius 27\n",
            "Temperature in Celcius 80.6\n"
          ]
        }
      ]
    },
    {
      "cell_type": "code",
      "source": [
        "#Task  08\n",
        "A = 120\n",
        "M = 200\n",
        "B = 80\n",
        "print(f'Apple ={A}', f'Milk = {M}', f'Bread ={B}', sep = '\\n')"
      ],
      "metadata": {
        "colab": {
          "base_uri": "https://localhost:8080/"
        },
        "id": "COmXoXTV6s3k",
        "outputId": "039fa94a-e47a-4411-db84-d5d20e67c4c7"
      },
      "execution_count": 32,
      "outputs": [
        {
          "output_type": "stream",
          "name": "stdout",
          "text": [
            "Apple =120\n",
            "Milk = 200\n",
            "Bread =80\n"
          ]
        }
      ]
    },
    {
      "cell_type": "code",
      "source": [
        "#Task  09\n",
        "length = 3\n",
        "width = 2\n",
        "Area = length*width\n",
        "print (f'Area of Triangle is {Area}')"
      ],
      "metadata": {
        "colab": {
          "base_uri": "https://localhost:8080/"
        },
        "id": "EecWa4Kx7L_W",
        "outputId": "c6e395af-27cf-4986-faa8-77494baa9cb2"
      },
      "execution_count": 33,
      "outputs": [
        {
          "output_type": "stream",
          "name": "stdout",
          "text": [
            "Area of Triangle is 6\n"
          ]
        }
      ]
    },
    {
      "cell_type": "code",
      "source": [],
      "metadata": {
        "id": "zlwrgy2T70gS"
      },
      "execution_count": 33,
      "outputs": []
    }
  ]
}
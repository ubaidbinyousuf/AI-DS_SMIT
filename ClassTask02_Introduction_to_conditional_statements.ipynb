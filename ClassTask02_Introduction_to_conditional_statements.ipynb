{
  "nbformat": 4,
  "nbformat_minor": 0,
  "metadata": {
    "colab": {
      "provenance": []
    },
    "kernelspec": {
      "name": "python3",
      "display_name": "Python 3"
    },
    "language_info": {
      "name": "python"
    }
  },
  "cells": [
    {
      "cell_type": "code",
      "execution_count": 2,
      "metadata": {
        "colab": {
          "base_uri": "https://localhost:8080/"
        },
        "id": "T6BWkXigcgtM",
        "outputId": "08da4ad3-d02a-42ef-99a3-81a2f1271b93"
      },
      "outputs": [
        {
          "output_type": "stream",
          "name": "stdout",
          "text": [
            "Enter your age:12\n",
            "child\n"
          ]
        }
      ],
      "source": [
        "#Print 'Child' if age < 18 else 'Adult'\n",
        "age = int(input('Enter your age:'))\n",
        "if age<18:\n",
        "  print ('child')\n",
        "else:\n",
        "  print ('adult')"
      ]
    },
    {
      "cell_type": "code",
      "source": [
        "# Print \"It's hot.\" if temperature > 30 else \"It's cool.\"\n",
        "temperature = int(input('Enter Your Current  Temperature'))\n",
        "if temperature <30:\n",
        "  print(\"It's Cool Outside\")\n",
        "else:\n",
        "  print(\"It's Hot Outside\")"
      ],
      "metadata": {
        "id": "bF7cuSh8cnSC",
        "colab": {
          "base_uri": "https://localhost:8080/"
        },
        "outputId": "fa629b75-1a2e-47cb-c3e4-977bad1ffbe0"
      },
      "execution_count": 5,
      "outputs": [
        {
          "output_type": "stream",
          "name": "stdout",
          "text": [
            "Enter Your Current  Temperature45\n",
            "It's Hot Outside\n"
          ]
        }
      ]
    },
    {
      "cell_type": "code",
      "source": [
        "# Print 'Divisible by 5' or 'Not divisible by 5'\n",
        "num = int(input(\"Enter your number\"))\n",
        "if num%5 == 0:\n",
        "  print(\"Divisible by 5\")\n",
        "else:\n",
        "  print(\"Not Divisible by 5\")"
      ],
      "metadata": {
        "colab": {
          "base_uri": "https://localhost:8080/"
        },
        "id": "IutkgtIY_Ez9",
        "outputId": "66ea6e0a-e9f4-4522-bc4d-31a68e1d3324"
      },
      "execution_count": 7,
      "outputs": [
        {
          "output_type": "stream",
          "name": "stdout",
          "text": [
            "Enter your number10\n",
            "Divisible by 5\n"
          ]
        }
      ]
    },
    {
      "cell_type": "code",
      "source": [
        "# Print 'Positive' if >0 else 'Negative or Zero'\n",
        "num1 = int(input(\"Enter your Number:  \"))\n",
        "if num1 >= 0:\n",
        "  print(f\"{num1} is Porsitive number\")\n",
        "else:\n",
        "  print(f\"{num1} is a Negative Number\")"
      ],
      "metadata": {
        "colab": {
          "base_uri": "https://localhost:8080/"
        },
        "id": "4GU24m4aDPG8",
        "outputId": "6d97d6cb-cbd6-47a9-ecab-4192a5064ec8"
      },
      "execution_count": 17,
      "outputs": [
        {
          "output_type": "stream",
          "name": "stdout",
          "text": [
            "Enter your Number:  0\n",
            "0 is Porsitive number\n"
          ]
        }
      ]
    },
    {
      "cell_type": "code",
      "source": [],
      "metadata": {
        "id": "Oaeis9d6EPNk"
      },
      "execution_count": null,
      "outputs": []
    }
  ]
}

{
 "cells": [
  {
   "cell_type": "markdown",
   "metadata": {
    "id": "4EaZ2eJZpviz"
   },
   "source": [
    "# ***Assigment 02***\n"
   ]
  },
  {
   "cell_type": "markdown",
   "metadata": {
    "id": "hpM23K-hqZ8U"
   },
   "source": [
    "Task 01\n",
    "\n",
    "Q1. Grocery Store System, You are building a grocery store app. You have a list of available items:\n",
    "\n",
    "items = ['milk', 'bread', 'butter', 'eggs', 'cheese', 'apple', 'banana']\n",
    "- Ask the user to enter an item they want to buy.\n",
    "- Check if the item is available.\n",
    "- If yes, remove it from the list and show the updated list.\n",
    "- If not, display a message: \"Sorry, item not available.\"\n"
   ]
  },
  {
   "cell_type": "code",
   "execution_count": 1,
   "metadata": {
    "id": "fRnOmJPLptj9"
   },
   "outputs": [
    {
     "name": "stdin",
     "output_type": "stream",
     "text": [
      "Enter the item to buy given in the list:   eggs\n"
     ]
    },
    {
     "name": "stdout",
     "output_type": "stream",
     "text": [
      "Updated after removing your item = ['milk', 'bread', 'butter', 'cheese', 'apple', 'banana']\n"
     ]
    }
   ],
   "source": [
    "items = ['milk', 'bread', 'butter', 'eggs', 'cheese', 'apple', 'banana']\n",
    "\n",
    "# Ask the user to enter an item they want to buy.\n",
    "\n",
    "want = input('Enter the item to buy given in the list:  ')\n",
    "\n",
    "# Check if the item is available.\n",
    "\n",
    "if want in items:\n",
    "    items.remove(want)\n",
    "    print(f'Updated after removing your item = {items}')\n",
    "\n",
    "# If not, display a message: \"Sorry, item not available.\"\n",
    "\n",
    "else:\n",
    "    print(\"Sorry, item not available.\")\n",
    "\n"
   ]
  },
  {
   "cell_type": "markdown",
   "metadata": {
    "id": "MFelsvNvs7FN"
   },
   "source": [
    "Task 02\n",
    "\n",
    "Q2. Student Attendance Tracker, You are creating a simple attendance tracker.\n",
    "students = ['Ali', 'Sara', 'Hina', 'Bilal', 'Ahmed']\n",
    "- Ask the teacher to enter the name of a student who is absent.\n",
    "- Remove that student from the list and print the list of present students.\n",
    "- Also, print the total number of present students."
   ]
  },
  {
   "cell_type": "code",
   "execution_count": 3,
   "metadata": {
    "id": "7GfUW-_qr5Sv"
   },
   "outputs": [
    {
     "name": "stdin",
     "output_type": "stream",
     "text": [
      "Enter the name of the Absent Student:   Ali\n"
     ]
    },
    {
     "name": "stdout",
     "output_type": "stream",
     "text": [
      "List of the Present students =  ['Sara', 'Hina', 'Bilal', 'Ahmed']\n",
      "The total number of present students =  ['Sara', 'Hina', 'Bilal', 'Ahmed']\n"
     ]
    }
   ],
   "source": [
    "students = ['Ali', 'Sara', 'Hina', 'Bilal', 'Ahmed']\n",
    "\n",
    "# Ask the teacher to enter the name of a student who is absent.\n",
    "\n",
    "absent = input('Enter the name of the Absent Student:  ')\n",
    "\n",
    "# Remove that student from the list and print the list of present students.\n",
    "\n",
    "if absent in students:\n",
    "    students.remove(absent)\n",
    "    print(f'List of the Present students =  {students}')\n",
    "else:\n",
    "    print('No one is Absent today ')\n",
    "\n",
    "# Also, print the total number of present students.\n",
    "\n",
    "print(f'The total number of present students =  {students}')"
   ]
  },
  {
   "cell_type": "markdown",
   "metadata": {
    "id": "B6HNwhNzyq1p"
   },
   "source": [
    "Task 03\n",
    "\n",
    "Q3. Shopping Cart Total\n",
    "You are designing an online shopping cart.\n",
    "cart = [1200, 450, 890, 300, 1500]\n",
    "- Print the total amount to be paid.\n",
    "- Print the most expensive item.\n",
    "- Remove the most expensive item and print the new total.\n"
   ]
  },
  {
   "cell_type": "code",
   "execution_count": 4,
   "metadata": {
    "id": "gQ_LrXwIupRb"
   },
   "outputs": [
    {
     "name": "stdout",
     "output_type": "stream",
     "text": [
      "Actual cart items : [1200, 450, 890, 300, 1500]\n",
      "Total amount to be paid: 4340\n",
      "The most Expensive item in the cart is: 1500\n",
      "Updated Cart After removing Expensive item:  [300, 450, 890, 1200]\n",
      "New total after removing expensive item 2840\n"
     ]
    }
   ],
   "source": [
    "cart = [1200, 450, 890, 300, 1500]\n",
    "\n",
    "print(f'Actual cart items : {cart}')\n",
    "\n",
    "# Print the total amount to be paid.\n",
    "\n",
    "total = sum(cart)\n",
    "print(f'Total amount to be paid: {total}')\n",
    "\n",
    "# Print the most expensive item.\n",
    "\n",
    "cart.sort()\n",
    "print(f'The most Expensive item in the cart is: {cart[-1]}')\n",
    "\n",
    "# Remove the most expensive item and print the new total.\n",
    "\n",
    "cart.pop()\n",
    "print(f'Updated Cart After removing Expensive item:  {cart}')\n",
    "\n",
    "new_total = sum(cart)\n",
    "print(f'New total after removing expensive item {new_total}')\n"
   ]
  },
  {
   "cell_type": "markdown",
   "metadata": {
    "id": "1WFPsCy63hLg"
   },
   "source": [
    "Task 04\n",
    "\n",
    "Q4. Social Media Friends List\n",
    "You are building a simple social media app.\n",
    "friends = ['Ali', 'Sara', 'Hina', 'Ahmed', 'Bilal', 'Zara']\n",
    "- Ask the user to enter the name of a person to search.\n",
    "- If the person is in the list, print \"Friend found!\".\n",
    "- If not, ask if they want to add them. If yes, add them and print the updated list."
   ]
  },
  {
   "cell_type": "code",
   "execution_count": 7,
   "metadata": {
    "id": "vJVD66zS4P3E"
   },
   "outputs": [
    {
     "name": "stdin",
     "output_type": "stream",
     "text": [
      "Enter the name to be Search :  Ubaid\n"
     ]
    },
    {
     "name": "stdout",
     "output_type": "stream",
     "text": [
      "Your Person is not in the list\n"
     ]
    },
    {
     "name": "stdin",
     "output_type": "stream",
     "text": [
      "Would you like to add (yes/no):  y\n"
     ]
    },
    {
     "name": "stdout",
     "output_type": "stream",
     "text": [
      "your person is added to the list = ['Ali', 'Sara', 'Hina', 'Ahmed', 'Bilal', 'Zara', 'Ubaid']\n"
     ]
    }
   ],
   "source": [
    "friends = ['Ali', 'Sara', 'Hina', 'Ahmed', 'Bilal', 'Zara']\n",
    "\n",
    "# Ask the user to enter the name of a person to search.\n",
    "\n",
    "person = input('Enter the name to be Search : ').capitalize()\n",
    "\n",
    "# If the person is in the list, print \"Friend found!\".\n",
    "\n",
    "if person in friends:\n",
    "    print (f\"Friend found!\")\n",
    "\n",
    "# If not, ask if they want to add them. If yes, add them and print the updated list.\n",
    "\n",
    "else:\n",
    "    print(f'Your Person is not in the list')\n",
    "    ask_to_add = input('Would you like to add (yes/no): ')\n",
    "    if ask_to_add in ['yes', 'y']:\n",
    "        friends.append(person)\n",
    "        print(f'your person is added to the list = {friends}')\n",
    "    else:\n",
    "        print(f'Your person is not added to the list {friends}')"
   ]
  },
  {
   "cell_type": "markdown",
   "metadata": {
    "id": "zpHYBzBS-OGC"
   },
   "source": [
    "Task 05\n",
    "\n",
    "Q5. Library Book System\n",
    "You are managing a small library system.\n",
    "\n",
    "books = ['Python Basics', 'AI for Beginners', 'Data Science 101', 'Machine Learning Intro']\n",
    "- Ask the user for a book title to borrow.\n",
    "- If available, remove it from the list and show the remaining books.\n",
    "- If not available, show a message \"Book not available.\"\n"
   ]
  },
  {
   "cell_type": "code",
   "execution_count": 8,
   "metadata": {
    "id": "yYDv1nht9Quy"
   },
   "outputs": [
    {
     "name": "stdin",
     "output_type": "stream",
     "text": [
      "Enter the Title of the book:  Python Basics\n"
     ]
    },
    {
     "name": "stdout",
     "output_type": "stream",
     "text": [
      "Book is available: Python Basics\n",
      "Remain Books in the Library: ['AI for Beginners', 'Data Science 101', 'Machine Learning Intro']\n"
     ]
    }
   ],
   "source": [
    "books = ['Python Basics', 'AI for Beginners', 'Data Science 101', 'Machine Learning Intro']\n",
    "\n",
    "# Ask the user for a book title to borrow.\n",
    "\n",
    "title  = input('Enter the Title of the book: ')\n",
    "\n",
    "# If available, remove it from the list and show the remaining books.\n",
    "\n",
    "if title in books:\n",
    "    print (f'Book is available: {title}')\n",
    "    books.remove(title)\n",
    "    print(f'Remain Books in the Library: {books}')\n",
    "\n",
    "\n",
    "# If not available, show a message \"Book not available.\"\n",
    "\n",
    "else:\n",
    "    print(f'{title} is not available')"
   ]
  },
  {
   "cell_type": "markdown",
   "metadata": {
    "id": "fJ6Caox6-O3z"
   },
   "source": [
    "Task 06\n",
    "\n",
    "Q6. Temperature Analysis\n",
    "You collected daily temperatures for a week:\n",
    "\n",
    "\n",
    "- Print the highest and lowest temperature.\n",
    "- Sort the list and print it.\n",
    "- Remove the highest and lowest temperature and print the average of the remaining days."
   ]
  },
  {
   "cell_type": "code",
   "execution_count": 9,
   "metadata": {
    "id": "L2Ua_4BG-Zv7"
   },
   "outputs": [
    {
     "name": "stdout",
     "output_type": "stream",
     "text": [
      "Highest temperature: 35\n",
      "Lowest Temperture = 29\n",
      "Sorted list of the temperature  =  [29, 30, 31, 32, 33, 34, 35]\n",
      "After Removing Max nad Min Temperature [30, 31, 32, 33, 34]\n",
      "The average temperature after removing highest and lowest  = 32.0\n"
     ]
    }
   ],
   "source": [
    "temperatures = [32, 30, 35, 33, 31, 29, 34]\n",
    "\n",
    "temperatures.sort()\n",
    "\n",
    "# Print the highest and lowest temperature.\n",
    "print(f'Highest temperature: {temperatures[-1]}')\n",
    "print(f'Lowest Temperture = {temperatures[0]}')\n",
    "\n",
    "# Sort the list and print it.\n",
    "print(f'Sorted list of the temperature  =  {temperatures}')\n",
    "\n",
    "# Remove the highest and lowest temperature and print the average of the remaining days.\n",
    "\n",
    "temperatures.remove(min(temperatures))\n",
    "temperatures.remove(max(temperatures))\n",
    "print(f'After Removing Max nad Min Temperature {temperatures}')\n",
    "\n",
    "avg = sum(temperatures)/len(temperatures)\n",
    "print(f'The average temperature after removing highest and lowest  = {avg}')\n",
    "\n"
   ]
  },
  {
   "cell_type": "markdown",
   "metadata": {
    "id": "mTmhrvov-T8c"
   },
   "source": [
    "Task 07\n",
    "\n",
    "Q7. Movie Night Organizer\n",
    "You’re organizing a movie night.\n",
    "\n",
    "movies = ['Inception', 'Interstellar', 'Avengers', 'Joker', 'Titanic']\n",
    "- Ask each friend to suggest a movie and add it to the list.\n",
    "- After 3 suggestions, print the final watchlist.\n",
    "- Print the total number of movies."
   ]
  },
  {
   "cell_type": "code",
   "execution_count": 10,
   "metadata": {
    "id": "NFGFGz1n-itx"
   },
   "outputs": [
    {
     "name": "stdin",
     "output_type": "stream",
     "text": [
      "Suggest the Name of 1st favorite Movie:   Terminator\n",
      "Suggest the Name of 2nd favorite Movie:   Gravity\n",
      "Suggest the Name of 3rd favorite Movie:   The Mask\n"
     ]
    },
    {
     "name": "stdout",
     "output_type": "stream",
     "text": [
      "After adding 3 suggestion the watchlist:  ['Inception', 'Interstellar', 'Avengers', 'Joker', 'Titanic', 'Terminator', 'Gravity', 'The Mask']\n",
      "The Total number of the movies 8\n"
     ]
    }
   ],
   "source": [
    "movies = ['Inception', 'Interstellar', 'Avengers', 'Joker', 'Titanic']\n",
    "\n",
    "# Ask each friend to suggest a movie and add it to the list.\n",
    "ask_movie_1 = input('Suggest the Name of 1st favorite Movie:  ')\n",
    "ask_movie_2 = input('Suggest the Name of 2nd favorite Movie:  ')\n",
    "ask_movie_3 = input('Suggest the Name of 3rd favorite Movie:  ')\n",
    "\n",
    "# After 3 suggestions, print the final watchlist.\n",
    "movies.append(ask_movie_1)\n",
    "movies.append(ask_movie_2)\n",
    "movies.append(ask_movie_3)\n",
    "\n",
    "# Print the total number of movies.\n",
    "print(f'After adding 3 suggestion the watchlist:  {movies}')\n",
    "print(f'The Total number of the movies {len(movies)}')\n",
    "\n"
   ]
  },
  {
   "cell_type": "markdown",
   "metadata": {
    "id": "gM-Kaf-87Adx"
   },
   "source": [
    "Task 08\n",
    "\n",
    "Q8. Marks Analysis System\n",
    "You collected marks of students in a test:\n",
    "\n",
    "marks = [78, 56, 89, 92, 67, 88, 76]\n",
    "- Print how many students scored above 80.\n",
    "- Print the average marks.\n",
    "- Add two new marks to the list and print the updated average."
   ]
  },
  {
   "cell_type": "code",
   "execution_count": 11,
   "metadata": {
    "id": "6_bhZXzh2es_"
   },
   "outputs": [
    {
     "name": "stdout",
     "output_type": "stream",
     "text": [
      "Students who scored above 80:  3\n",
      "The average of Marks =  78.0\n"
     ]
    },
    {
     "name": "stdin",
     "output_type": "stream",
     "text": [
      "Enter new mark of the subject:  76\n",
      "Enter another new mark of the subject:  88\n"
     ]
    },
    {
     "name": "stdout",
     "output_type": "stream",
     "text": [
      "The updated list after adding two marks [56, 67, 76, 78, 88, 89, 92, '76', '88']\n"
     ]
    }
   ],
   "source": [
    "marks = [78, 56, 89, 92, 67, 88, 76]\n",
    "marks.sort()\n",
    "count = 0\n",
    "\n",
    "# Number of student above 80\n",
    "for i in marks:\n",
    "    if i>80:\n",
    "        count = 1+count\n",
    "print(f'Students who scored above 80:  {count}')\n",
    "\n",
    "#Print the average marks.\n",
    "\n",
    "avg = sum(marks)/len(marks)\n",
    "print(f'The average of Marks =  {avg}')\n",
    "\n",
    "#Add two new marks to the list and print the updated average.\n",
    "\n",
    "new_mark1 = input('Enter new mark of the subject: ')\n",
    "new_mark2 = input('Enter another new mark of the subject: ')\n",
    "\n",
    "marks.append(new_mark1)\n",
    "marks.append(new_mark2)\n",
    "\n",
    "print(f'The updated list after adding two marks {marks}')"
   ]
  }
 ],
 "metadata": {
  "colab": {
   "private_outputs": true,
   "provenance": []
  },
  "kernelspec": {
   "display_name": "Python 3 (ipykernel)",
   "language": "python",
   "name": "python3"
  },
  "language_info": {
   "codemirror_mode": {
    "name": "ipython",
    "version": 3
   },
   "file_extension": ".py",
   "mimetype": "text/x-python",
   "name": "python",
   "nbconvert_exporter": "python",
   "pygments_lexer": "ipython3",
   "version": "3.13.5"
  },
  "widgets": {
   "application/vnd.jupyter.widget-state+json": {
    "state": {},
    "version_major": 2,
    "version_minor": 0
   }
  }
 },
 "nbformat": 4,
 "nbformat_minor": 4
}

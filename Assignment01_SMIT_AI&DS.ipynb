{
  "nbformat": 4,
  "nbformat_minor": 0,
  "metadata": {
    "colab": {
      "provenance": []
    },
    "kernelspec": {
      "name": "python3",
      "display_name": "Python 3"
    },
    "language_info": {
      "name": "python"
    }
  },
  "cells": [
    {
      "cell_type": "markdown",
      "source": [
        "# **Part 'A' Print Statement**\n"
      ],
      "metadata": {
        "id": "J78SwsVjAUjV"
      }
    },
    {
      "cell_type": "code",
      "execution_count": null,
      "metadata": {
        "colab": {
          "base_uri": "https://localhost:8080/"
        },
        "id": "pQ7lWuVd7oJ0",
        "outputId": "edf96126-1c2d-47a1-d018-2d0ec62cde17"
      },
      "outputs": [
        {
          "output_type": "stream",
          "name": "stdout",
          "text": [
            "My name is Ubaid Bin Yousuf and I am 30\n"
          ]
        }
      ],
      "source": [
        "# 1 Write a program to print your name and age using a single print statement.\n",
        "name = 'Ubaid Bin Yousuf'\n",
        "age = 30\n",
        "print(f'My name is {name} and I am {age}')"
      ]
    },
    {
      "cell_type": "code",
      "source": [
        "# 2 Use sep to print numbers 1, 2, 3, 4, 5 with different separators (-, |, ,).\n",
        "print (1, 2, 3, 4, 5, sep = '-')\n",
        "print (1, 2, 3, 4, 5, sep = '|')\n",
        "print (1, 2, 3, 4, 5, sep = ' ')"
      ],
      "metadata": {
        "colab": {
          "base_uri": "https://localhost:8080/"
        },
        "id": "7FVrIQRJ8X8f",
        "outputId": "540b840e-6d5b-4447-e4b7-c1465f47a2d8"
      },
      "execution_count": null,
      "outputs": [
        {
          "output_type": "stream",
          "name": "stdout",
          "text": [
            "1-2-3-4-5\n",
            "1|2|3|4|5\n",
            "1 2 3 4 5\n"
          ]
        }
      ]
    },
    {
      "cell_type": "code",
      "source": [
        "# 3 Use end to print the following output using only two print statements:\n",
        "# Hello World!\n",
        "# I am learning Python\n",
        "print('hello World', end = '\\n')\n",
        "print('I am learning Python', end = '\\n')"
      ],
      "metadata": {
        "colab": {
          "base_uri": "https://localhost:8080/"
        },
        "id": "pF6Szivt8vrs",
        "outputId": "35f55185-38ea-4a6a-d620-1ae14b903f90"
      },
      "execution_count": null,
      "outputs": [
        {
          "output_type": "stream",
          "name": "stdout",
          "text": [
            "hello World\n",
            "I am learning Python\n"
          ]
        }
      ]
    },
    {
      "cell_type": "code",
      "source": [
        "# 4 Write a program to print the following shape using only print statements:\n",
        "# *\n",
        "# * *\n",
        "# * * *\n",
        "# * * * *\n",
        "\n",
        "print ('*', end = '\\n')\n",
        "print ('* *', end = '\\n')\n",
        "print ('* * *', end = '\\n')\n",
        "print ('* * * *', end = '\\n')"
      ],
      "metadata": {
        "id": "ePLgKVQC9Pwd",
        "colab": {
          "base_uri": "https://localhost:8080/"
        },
        "outputId": "7dc10d0d-a7f2-4d33-f8a9-e3ca7e1eb876"
      },
      "execution_count": null,
      "outputs": [
        {
          "output_type": "stream",
          "name": "stdout",
          "text": [
            "*\n",
            "* *\n",
            "* * *\n",
            "* * * *\n"
          ]
        }
      ]
    },
    {
      "cell_type": "markdown",
      "source": [
        "# Part 'B' **Variables**"
      ],
      "metadata": {
        "id": "zTe0TCfVAnSy"
      }
    },
    {
      "cell_type": "code",
      "source": [
        "# 1 Create variables name, age, and city. Print them in a single line as a meaningful sentence.#\n",
        "\n",
        "name = 'Ubaid Bin Yousuf'\n",
        "age = 30\n",
        "city = 'Karachi'\n",
        "print (f'My Name is {name}. I am {age} and I live in {city}')"
      ],
      "metadata": {
        "colab": {
          "base_uri": "https://localhost:8080/"
        },
        "id": "YtA5bZ2_AHTw",
        "outputId": "da45c272-d121-4c2e-84e9-e52b189828c3"
      },
      "execution_count": null,
      "outputs": [
        {
          "output_type": "stream",
          "name": "stdout",
          "text": [
            "My Name is Ubaid Bin Yousuf. I am 30 and I live in Karachi\n"
          ]
        }
      ]
    },
    {
      "cell_type": "code",
      "source": [
        "# 2 Create two variables a = 10 and b = 20. Print their sum, difference, product, and division.\n",
        "\n",
        "a = 2\n",
        "b = 3\n",
        "print('Sum of 2 and 3 is: ', a+b )\n",
        "print('Difference of 2 and 3 is: ', a-b )\n",
        "print('Product of 2 and 3 is: ', a*b )\n",
        "print('Division of 2 and 3 is: ', a/b )"
      ],
      "metadata": {
        "colab": {
          "base_uri": "https://localhost:8080/"
        },
        "id": "2L1MrF-yB3W0",
        "outputId": "6b03f174-3feb-4599-cb1a-bfb272d7c7a0"
      },
      "execution_count": null,
      "outputs": [
        {
          "output_type": "stream",
          "name": "stdout",
          "text": [
            "Sum of 2 and 3 is:  5\n",
            "Difference of 2 and 3 is:  -1\n",
            "Product of 2 and 3 is:  6\n",
            "Division of 2 and 3 is:  0.6666666666666666\n"
          ]
        }
      ]
    },
    {
      "cell_type": "code",
      "source": [
        "# 3. Reassign a = 15 and b = 25. Print results again.\n",
        "a = 15\n",
        "b = 25\n",
        "c = 0\n",
        "\n",
        "print ('before assign a = 15 and b = 25')\n",
        "\n",
        "c = a\n",
        "a = b\n",
        "b = c\n",
        "\n",
        "print (f'After Reassigned a = {a} and b = {b}')\n"
      ],
      "metadata": {
        "id": "J5eujiX2Cg8b",
        "colab": {
          "base_uri": "https://localhost:8080/"
        },
        "outputId": "a12c52cd-84c9-4abe-8b09-47839a55c54b"
      },
      "execution_count": 12,
      "outputs": [
        {
          "output_type": "stream",
          "name": "stdout",
          "text": [
            "before assign a = 15 and b = 25\n",
            "After Reassigned a = 25 and b = 15\n"
          ]
        }
      ]
    },
    {
      "cell_type": "code",
      "source": [
        "# 4 Create a variable pi = 3.14159. Print the area of a circle with radius r = 5.\n",
        "\n",
        "pi = 3.14259\n",
        "r = 5\n",
        "\n",
        "Area = (pi*r*r)\n",
        "print(f' Area of a circle with radius r = 5 is: {Area} ')\n"
      ],
      "metadata": {
        "id": "0I_RmyryKJfc",
        "colab": {
          "base_uri": "https://localhost:8080/"
        },
        "outputId": "0c8d4c76-0f00-4260-d536-6bd18ef6a397"
      },
      "execution_count": 13,
      "outputs": [
        {
          "output_type": "stream",
          "name": "stdout",
          "text": [
            " Area of a circle with radius r = 5 is: 78.56475 \n"
          ]
        }
      ]
    },
    {
      "cell_type": "markdown",
      "source": [
        "## Bonus Challenge"
      ],
      "metadata": {
        "id": "CvZT2xTQKdrH"
      }
    },
    {
      "cell_type": "code",
      "source": [
        "# 1 Swap two variables without using a third variable.\n",
        "a = 1\n",
        "b = 2\n",
        "\n",
        "print (f'Before Swap a = {a} and b = {b}')\n",
        "\n",
        "a,b = b,a\n",
        "\n",
        "print (f'After Swaped a = {a} and b = {b}')\n"
      ],
      "metadata": {
        "colab": {
          "base_uri": "https://localhost:8080/"
        },
        "id": "17c8Ar2BKZSF",
        "outputId": "29cc40f5-4fb3-4c14-f417-62b7996bab57"
      },
      "execution_count": 14,
      "outputs": [
        {
          "output_type": "stream",
          "name": "stdout",
          "text": [
            "Before Swap a = 1 and b = 2\n",
            "After Swaped a = 2 and b = 1\n"
          ]
        }
      ]
    }
  ]
}
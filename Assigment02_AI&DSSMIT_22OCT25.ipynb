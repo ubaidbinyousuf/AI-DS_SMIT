{
  "nbformat": 4,
  "nbformat_minor": 0,
  "metadata": {
    "colab": {
      "private_outputs": true,
      "provenance": [],
      "authorship_tag": "ABX9TyNr0OChhOS5r817qz0/gyNu",
      "include_colab_link": true
    },
    "kernelspec": {
      "name": "python3",
      "display_name": "Python 3"
    },
    "language_info": {
      "name": "python"
    }
  },
  "cells": [
    {
      "cell_type": "markdown",
      "metadata": {
        "id": "view-in-github",
        "colab_type": "text"
      },
      "source": [
        "<a href=\"https://colab.research.google.com/github/ubaidbinyousuf/AI-DS_SMIT/blob/main/Assigment02_AI%26DSSMIT_22OCT25.ipynb\" target=\"_parent\"><img src=\"https://colab.research.google.com/assets/colab-badge.svg\" alt=\"Open In Colab\"/></a>"
      ]
    },
    {
      "cell_type": "markdown",
      "source": [
        "# ***Assigment 02***\n"
      ],
      "metadata": {
        "id": "4EaZ2eJZpviz"
      }
    },
    {
      "cell_type": "markdown",
      "source": [
        "##Task 01\n",
        "Q1. Grocery Store System, You are building a grocery store app. You have a list of available items:\n",
        "\n",
        "items = ['milk', 'bread', 'butter', 'eggs', 'cheese', 'apple', 'banana']\n",
        "- Ask the user to enter an item they want to buy.\n",
        "- Check if the item is available.\n",
        "- If yes, remove it from the list and show the updated list.\n",
        "- If not, display a message: \"Sorry, item not available.\"\n"
      ],
      "metadata": {
        "id": "hpM23K-hqZ8U"
      }
    },
    {
      "cell_type": "code",
      "execution_count": null,
      "metadata": {
        "id": "fRnOmJPLptj9"
      },
      "outputs": [],
      "source": [
        "items = ['milk', 'bread', 'butter', 'eggs', 'cheese', 'apple', 'banana']\n",
        "\n",
        "# Ask the user to enter an item they want to buy.\n",
        "\n",
        "want = input('Enter the item to buy given in the list:  ')\n",
        "\n",
        "# Check if the item is available.\n",
        "\n",
        "if want in items:\n",
        "    items.remove(want)\n",
        "    print(f'Updated after removing your item = {items}')\n",
        "\n",
        "# If not, display a message: \"Sorry, item not available.\"\n",
        "\n",
        "else:\n",
        "    print(\"Sorry, item not available.\")\n",
        "\n"
      ]
    },
    {
      "cell_type": "markdown",
      "source": [
        "##Task 02\n",
        "Q2. Student Attendance Tracker, You are creating a simple attendance tracker.\n",
        "students = ['Ali', 'Sara', 'Hina', 'Bilal', 'Ahmed']\n",
        "- Ask the teacher to enter the name of a student who is absent.\n",
        "- Remove that student from the list and print the list of present students.\n",
        "- Also, print the total number of present students."
      ],
      "metadata": {
        "id": "MFelsvNvs7FN"
      }
    },
    {
      "cell_type": "code",
      "source": [
        "students = ['Ali', 'Sara', 'Hina', 'Bilal', 'Ahmed']\n",
        "\n",
        "# Ask the teacher to enter the name of a student who is absent.\n",
        "\n",
        "absent = input('Enter the name of the Absent Student:  ')\n",
        "\n",
        "# Remove that student from the list and print the list of present students.\n",
        "\n",
        "if absent in students:\n",
        "    students.remove(absent)\n",
        "    print(f'List of the Present students =  {students}')\n",
        "else:\n",
        "    print('No one is Absent today ')\n",
        "\n",
        "# Also, print the total number of present students.\n",
        "\n",
        "print(f'The total number of present students =  {students}')"
      ],
      "metadata": {
        "id": "7GfUW-_qr5Sv"
      },
      "execution_count": null,
      "outputs": []
    },
    {
      "cell_type": "markdown",
      "source": [
        "##Task 03\n",
        "Q3. Shopping Cart Total\n",
        "You are designing an online shopping cart.\n",
        "cart = [1200, 450, 890, 300, 1500]\n",
        "- Print the total amount to be paid.\n",
        "- Print the most expensive item.\n",
        "- Remove the most expensive item and print the new total.\n"
      ],
      "metadata": {
        "id": "B6HNwhNzyq1p"
      }
    },
    {
      "cell_type": "code",
      "source": [
        "cart = [1200, 450, 890, 300, 1500]\n",
        "\n",
        "print(f'Actual cart items : {cart}')\n",
        "\n",
        "# Print the total amount to be paid.\n",
        "\n",
        "total = sum(cart)\n",
        "print(f'Total amount to be paid: {total}')\n",
        "\n",
        "# Print the most expensive item.\n",
        "\n",
        "cart.sort()\n",
        "print(f'The most Expensive item in the cart is: {cart[-1]}')\n",
        "\n",
        "# Remove the most expensive item and print the new total.\n",
        "\n",
        "cart.pop()\n",
        "print(f'Updated Cart After removing Expensive item:  {cart}')\n",
        "\n",
        "new_total = sum(cart)\n",
        "print(f'New total after removing expensive item {new_total}')\n"
      ],
      "metadata": {
        "id": "gQ_LrXwIupRb"
      },
      "execution_count": null,
      "outputs": []
    },
    {
      "cell_type": "markdown",
      "source": [
        "##Task 04\n",
        "Q4. Social Media Friends List\n",
        "You are building a simple social media app.\n",
        "friends = ['Ali', 'Sara', 'Hina', 'Ahmed', 'Bilal', 'Zara']\n",
        "- Ask the user to enter the name of a person to search.\n",
        "- If the person is in the list, print \"Friend found!\".\n",
        "- If not, ask if they want to add them. If yes, add them and print the updated list."
      ],
      "metadata": {
        "id": "1WFPsCy63hLg"
      }
    },
    {
      "cell_type": "code",
      "source": [
        "friends = ['Ali', 'Sara', 'Hina', 'Ahmed', 'Bilal', 'Zara']\n",
        "\n",
        "# Ask the user to enter the name of a person to search.\n",
        "\n",
        "person = input('Enter the name to be Search : ').capitalize()\n",
        "\n",
        "# If the person is in the list, print \"Friend found!\".\n",
        "\n",
        "if person in friends:\n",
        "    print (f\"Friend found!\")\n",
        "\n",
        "# If not, ask if they want to add them. If yes, add them and print the updated list.\n",
        "\n",
        "else:\n",
        "    print(f'Your Person is not in the list')\n",
        "    ask_to_add = input('Would you like to add (yes/no): ')\n",
        "    if ask_to_add in ['yes', 'y']:\n",
        "        friends.append(person)\n",
        "        print(f'your person is added to the list = {friends}')\n",
        "    else:\n",
        "        print(f'Your person is not added to the list {friends}')"
      ],
      "metadata": {
        "id": "vJVD66zS4P3E"
      },
      "execution_count": null,
      "outputs": []
    },
    {
      "cell_type": "markdown",
      "source": [
        "##Task 05\n",
        "Q5. Library Book System\n",
        "You are managing a small library system.\n",
        "\n",
        "books = ['Python Basics', 'AI for Beginners', 'Data Science 101', 'Machine Learning Intro']\n",
        "- Ask the user for a book title to borrow.\n",
        "- If available, remove it from the list and show the remaining books.\n",
        "- If not available, show a message \"Book not available.\"\n"
      ],
      "metadata": {
        "id": "zpHYBzBS-OGC"
      }
    },
    {
      "cell_type": "code",
      "source": [
        "books = ['Python Basics', 'AI for Beginners', 'Data Science 101', 'Machine Learning Intro']\n",
        "\n",
        "# Ask the user for a book title to borrow.\n",
        "title  = input('Enter the Title of the book: ')\n",
        "\n",
        "# If available, remove it from the list and show the remaining books.\n",
        "if title in books:\n",
        "    print (f'Book is available: {title}')\n",
        "    books.remove(title)\n",
        "    print(f'Remain Books in the Library: {books}')\n",
        "\n",
        "# If not available, show a message \"Book not available.\"\n",
        "else:\n",
        "    print(f'{title} is not available')"
      ],
      "metadata": {
        "id": "yYDv1nht9Quy"
      },
      "execution_count": null,
      "outputs": []
    },
    {
      "cell_type": "markdown",
      "source": [
        "##Task 06\n",
        "Q6. Temperature Analysis\n",
        "You collected daily temperatures for a week:\n",
        "\n",
        "\n",
        "- Print the highest and lowest temperature.\n",
        "- Sort the list and print it.\n",
        "- Remove the highest and lowest temperature and print the average of the remaining days."
      ],
      "metadata": {
        "id": "fJ6Caox6-O3z"
      }
    },
    {
      "cell_type": "code",
      "source": [
        "temperatures = [32, 30, 35, 33, 31, 29, 34]\n",
        "\n",
        "temperatures.sort()\n",
        "\n",
        "# Print the highest and lowest temperature.\n",
        "print(f'Highest temperature: {temperatures[-1]}')\n",
        "print(f'Lowest Temperture = {temperatures[0]}')\n",
        "\n",
        "# Sort the list and print it.\n",
        "print(f'Sorted list of the temperature  =  {temperatures}')\n",
        "\n",
        "# Remove the highest and lowest temperature and print the average of the remaining days.\n",
        "\n",
        "temperatures.remove(min(temperatures))\n",
        "temperatures.remove(max(temperatures))\n",
        "print(f'After Removing Max nad Min Temperature {temperatures}')\n",
        "\n",
        "avg = sum(temperatures)/len(temperatures)\n",
        "print(f'The average temperature after removing highest and lowest  = {avg}')\n",
        "\n"
      ],
      "metadata": {
        "id": "L2Ua_4BG-Zv7"
      },
      "execution_count": null,
      "outputs": []
    },
    {
      "cell_type": "markdown",
      "source": [
        "##Task 07\n",
        "Q7. Movie Night Organizer\n",
        "You’re organizing a movie night.\n",
        "\n",
        "movies = ['Inception', 'Interstellar', 'Avengers', 'Joker', 'Titanic']\n",
        "- Ask each friend to suggest a movie and add it to the list.\n",
        "- After 3 suggestions, print the final watchlist.\n",
        "- Print the total number of movies."
      ],
      "metadata": {
        "id": "mTmhrvov-T8c"
      }
    },
    {
      "cell_type": "code",
      "source": [
        "movies = ['Inception', 'Interstellar', 'Avengers', 'Joker', 'Titanic']\n",
        "\n",
        "# Ask each friend to suggest a movie and add it to the list.\n",
        "ask_movie_1 = input('Suggest the Name of 1st favorite Movie:  ')\n",
        "ask_movie_2 = input('Suggest the Name of 2nd favorite Movie:  ')\n",
        "ask_movie_3 = input('Suggest the Name of 3rd favorite Movie:  ')\n",
        "\n",
        "# After 3 suggestions, print the final watchlist.\n",
        "movies.append(ask_movie_1)\n",
        "movies.append(ask_movie_2)\n",
        "movies.append(ask_movie_3)\n",
        "\n",
        "# Print the total number of movies.\n",
        "print(f'After adding 3 suggestion the watchlist:  {movies}')\n",
        "print(f'The Total number of the movies {len(movies)}')\n",
        "\n"
      ],
      "metadata": {
        "id": "NFGFGz1n-itx"
      },
      "execution_count": null,
      "outputs": []
    },
    {
      "cell_type": "markdown",
      "source": [
        "##Task 08\n",
        "Q8. Marks Analysis System\n",
        "You collected marks of students in a test:\n",
        "\n",
        "marks = [78, 56, 89, 92, 67, 88, 76]\n",
        "- Print how many students scored above 80.\n",
        "- Print the average marks.\n",
        "- Add two new marks to the list and print the updated average."
      ],
      "metadata": {
        "id": "gM-Kaf-87Adx"
      }
    },
    {
      "cell_type": "code",
      "source": [
        "marks = [78, 56, 89, 92, 67, 88, 76]\n",
        "marks.sort()\n",
        "count = 0\n",
        "\n",
        "# Number of student above 80\n",
        "for i in marks:\n",
        "    if i>80:\n",
        "        count = 1+count\n",
        "print(f'Students who scored above 80:  {count}')\n",
        "\n",
        "#Print the average marks.\n",
        "\n",
        "avg = sum(marks)/len(marks)\n",
        "print(f'The average of Marks =  {avg}')\n",
        "\n",
        "#Add two new marks to the list and print the updated average.\n",
        "\n",
        "new_mark1 = input('Enter new mark of the subject: ')\n",
        "new_mark2 = input('Enter another new mark of the subject: ')\n",
        "\n",
        "marks.append(new_mark1)\n",
        "marks.append(new_mark2)\n",
        "\n",
        "print(f'The updated list after adding two marks {marks}')"
      ],
      "metadata": {
        "id": "6_bhZXzh2es_"
      },
      "execution_count": null,
      "outputs": []
    }
  ]
}
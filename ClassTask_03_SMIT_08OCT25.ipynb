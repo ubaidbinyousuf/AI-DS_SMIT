{
  "cells": [
    {
      "cell_type": "code",
      "execution_count": 6,
      "id": "7298dacb",
      "metadata": {
        "colab": {
          "base_uri": "https://localhost:8080/"
        },
        "id": "7298dacb",
        "outputId": "225bad8f-62ac-4efe-a3fa-5f5f4044c9fd"
      },
      "outputs": [
        {
          "output_type": "stream",
          "name": "stdout",
          "text": [
            "Enter your marks: 90\n",
            "Enter your attendance percentage: 90\n",
            "Are you a national-level athlete? (yes/no): y\n",
            "\n",
            "Scholarship Granted\n",
            "\n",
            "You are National Level Athlete\n"
          ]
        }
      ],
      "source": [
        "#Task 1 — Scholarship Eligibility\n",
        "#Write a Python program to determine whether a student is eligible for a scholarship. The student is eligible if:\n",
        "#marks >= 85 and attendance >= 80\n",
        "#OR the student is a national-level athlete.\n",
        "#If eligible, print 'Scholarship Granted', otherwise print 'Scholarship Denied'.\n",
        "\n",
        "\n",
        "marks = int(input('Enter your marks: '))\n",
        "\n",
        "attendance = int(input('Enter your attendance percentage: '))\n",
        "\n",
        "is_national_athlete = input('Are you a national-level athlete? (yes/no): ').strip().lower() in ['yes','y']\n",
        "\n",
        "\n",
        "if (marks >= 85 and attendance >= 80) or is_national_athlete:\n",
        "    print('\\nScholarship Granted')\n",
        "\n",
        "    if is_national_athlete:\n",
        "      print('\\nYou are National Level Athlete')\n",
        "\n",
        "else:\n",
        "    print('Scholarship Denied')\n",
        "\n"
      ]
    },
    {
      "cell_type": "code",
      "execution_count": 8,
      "id": "e9256eeb",
      "metadata": {
        "colab": {
          "base_uri": "https://localhost:8080/"
        },
        "id": "e9256eeb",
        "outputId": "bd4726ab-9098-4c0c-ea48-35796d6e5a6b"
      },
      "outputs": [
        {
          "output_type": "stream",
          "name": "stdout",
          "text": [
            "Enter the current temperature °C: 13\n",
            "Enter the current humidity percentage: 80\n",
            "Do you want to manually activate the heater? (yes/no): n\n",
            "\n",
            "Heater ON\n"
          ]
        }
      ],
      "source": [
        "#Task 2 — Smart Home Heater\n",
        "#Write a Python program that decides whether the heater should turn ON. Turn ON if:\n",
        "#temperature < 18 and humidity > 40\n",
        "#OR the user manually activates the heater.\n",
        "#Print 'Heater ON' or 'Heater OFF'.\n",
        "\n",
        "\n",
        "temperature = int(input('Enter the current temperature °C: '))\n",
        "\n",
        "humidity = int(input('Enter the current humidity percentage: '))\n",
        "\n",
        "manual_activation = input('Do you want to manually activate the heater? (yes/no): ').strip().lower() in ['yes','y']\n",
        "\n",
        "if (temperature < 18 and humidity > 40) or manual_activation:\n",
        "    print('\\nHeater ON')\n",
        "\n",
        "    if manual_activation:\n",
        "      print('\\nHeater is Manually ON')\n",
        "\n",
        "else:\n",
        "    print('\\nHeater OFF')\n"
      ]
    },
    {
      "cell_type": "code",
      "execution_count": 10,
      "id": "5188ed9b",
      "metadata": {
        "colab": {
          "base_uri": "https://localhost:8080/"
        },
        "id": "5188ed9b",
        "outputId": "fdb80a10-574a-4da8-e44a-2518c6733f51"
      },
      "outputs": [
        {
          "output_type": "stream",
          "name": "stdout",
          "text": [
            "Enter teh number of purchased item: 4\n",
            "Enter the total bill amount:  4000\n",
            "Are you the Premium Member:  y\n",
            "\n",
            "Coupon Activated\n",
            "\n",
            "You are Premium Member\n"
          ]
        }
      ],
      "source": [
        "#Task 3 — E-commerce Coupon\n",
        "#Write a Python program to check if a customer is eligible for a special coupon. Eligible if:\n",
        "#purchased > 3 items and total_bill > 10000\n",
        "#OR the customer is a premium member.\n",
        "#Print 'Coupon Activated' or 'No Coupon Available'.\n",
        "\n",
        "no_purchased_item = int(input(\"Enter teh number of purchased item: \"))\n",
        "total_bill = int(input('Enter the total bill amount:  '))\n",
        "is_premuim_member = input('Are you the Premium Member:  ').strip().lower() in ['yes','y']\n",
        "\n",
        "if (no_purchased_item >3 and total_bill > 10000) or is_premuim_member:\n",
        "    print('\\nCoupon Activated')\n",
        "\n",
        "    if is_premuim_member:\n",
        "        print(\"\\nYou are Premium Member\")\n",
        "else:\n",
        "    print(\"\\nNo Coupon Available\")\n",
        "\n"
      ]
    },
    {
      "cell_type": "code",
      "execution_count": 13,
      "id": "f9fad4fb",
      "metadata": {
        "colab": {
          "base_uri": "https://localhost:8080/"
        },
        "id": "f9fad4fb",
        "outputId": "9b45faea-e81e-4c20-e566-358245830b34"
      },
      "outputs": [
        {
          "output_type": "stream",
          "name": "stdout",
          "text": [
            "Do you have a Vald ticket? (yes/no): y\n",
            "Do you have a valid passport? (yes/no): \n",
            "Are you a VIP passenger? (yes/no): y\n",
            "\n",
            "Boarding Allowed\n",
            "You are a VIP passenger\n"
          ]
        }
      ],
      "source": [
        "#Task 4 — Flight Boarding\n",
        "#Write a Python program to determine if a passenger can board a flight. Allowed if:\n",
        "#has a valid ticket and a valid passport\n",
        "#OR is a VIP passenger.\n",
        "#Print 'Boarding Allowed' or 'Boarding Denied'.\n",
        "\n",
        "\n",
        "has_valid_ticket = input('Do you have a Vald ticket? (yes/no): ').strip().lower() in ['yes', 'y']\n",
        "has_valid_passport = input('Do you have a valid passport? (yes/no): ').strip().lower() in ['yes', 'y']\n",
        "is_vip_passenger = input('Are you a VIP passenger? (yes/no): ').strip().lower() in ['yes', 'y']\n",
        "\n",
        "if (has_valid_ticket and has_valid_passport) or is_vip_passenger:\n",
        "    print('\\nBoarding Allowed')\n",
        "\n",
        "    if is_vip_passenger:\n",
        "        print('You are a VIP passenger')\n",
        "else:\n",
        "    print('Boarding Denied')\n",
        "\n",
        "\n"
      ]
    },
    {
      "cell_type": "code",
      "execution_count": 16,
      "id": "e1bebd07",
      "metadata": {
        "colab": {
          "base_uri": "https://localhost:8080/"
        },
        "id": "e1bebd07",
        "outputId": "f164a47a-15f8-4d86-8cdc-1d48a7866a1f"
      },
      "outputs": [
        {
          "output_type": "stream",
          "name": "stdout",
          "text": [
            "Enter your age: 60\n",
            "Enter your Health SCore (0-100): 70\n",
            " You to subscribe for premium Offer? (yes/no): y\n",
            "\n",
            "You could have premium offer\n",
            "You are subscribed for Premium Offer\n"
          ]
        }
      ],
      "source": [
        "#Task 5 — Insurance Premium Offer\n",
        "#Write a Python program to determine if a person qualifies for a premium insurance offer. Qualified if:\n",
        "#age between 25 and 50 (inclusive) and health_score > 70\n",
        "#OR the person has chosen a premium plan.\n",
        "#Print 'Premium Offered' or 'Premium Not Offered'.\n",
        "\n",
        "age = int(input('Enter your age: '))\n",
        "health_score = int(input('Enter your Health SCore (0-100): '))\n",
        "is_chosen_Premium = input(' You to subscribe for premium Offer? (yes/no): ').strip().lower() in ['yes', 'y']\n",
        "\n",
        "if (25 <= age >= 50 and health_score > 70) or is_chosen_Premium:\n",
        "    print('\\nYou could have premium offer')\n",
        "\n",
        "    if is_chosen_Premium:\n",
        "        print('You are subscribed for Premium Offer')\n",
        "\n",
        "else:\n",
        "    print('You could not have premium offer')\n"
      ]
    },
    {
      "cell_type": "code",
      "execution_count": 18,
      "id": "1cfdf82b",
      "metadata": {
        "colab": {
          "base_uri": "https://localhost:8080/"
        },
        "id": "1cfdf82b",
        "outputId": "1ebc4029-bdb0-44bb-cf3d-8f871db0a10a"
      },
      "outputs": [
        {
          "output_type": "stream",
          "name": "stdout",
          "text": [
            "Enter your Marks:    60\n",
            "Enter you Attendence:  80\n",
            "Have you missed your final exam (yes/no):  y\n",
            "\n",
            "No Retake Needed for the Exam\n",
            "You missed your final exam\n"
          ]
        }
      ],
      "source": [
        "#Task 6 — Exam Retake Decision\n",
        "#Write a Python program to check if a student must retake the exam. Retake if:\n",
        "#marks < 40 and attendance < 70\n",
        "#OR the student missed the final exam.\n",
        "#Print 'Retake Required' or 'No Retake Needed'.\n",
        "\n",
        "student_marks = int(input('Enter your Marks:    '))\n",
        "student_attendence = int(input('Enter you Attendence:  '))\n",
        "missed_final_exam = input('Have you missed your final exam (yes/no):  ').strip().lower() in['yes', 'y']\n",
        "\n",
        "if (student_marks < 40 and student_attendence <70) or missed_final_exam:\n",
        "    print('\\nNo Retake Needed for the Exam')\n",
        "\n",
        "    if missed_final_exam:\n",
        "        print('You missed your final exam')\n",
        "\n",
        "else:\n",
        "    print('Retake Required for the Exam')\n"
      ]
    },
    {
      "cell_type": "code",
      "execution_count": 20,
      "id": "01e8bd24",
      "metadata": {
        "colab": {
          "base_uri": "https://localhost:8080/"
        },
        "id": "01e8bd24",
        "outputId": "7e3b900b-83fb-4c6a-f3f2-96b5da97f807"
      },
      "outputs": [
        {
          "output_type": "stream",
          "name": "stdout",
          "text": [
            " Enter the Number purchased item:  70\n",
            "Enter the amount of the purchased item:  700000\n",
            "Are you Gold Member (yes/no): y\n",
            "\n",
            "Loyalty Discount Applied\n",
            "\n",
            "You are a Gold Member\n"
          ]
        }
      ],
      "source": [
        "#Task 7 — Loyalty Discount\n",
        "#Write a Python program to determine if a customer qualifies for a loyalty discount. Qualified if:\n",
        "#purchases > 10 and total_spent > 50000\n",
        "#OR the customer is a 'Gold' member.\n",
        "#Print 'Loyalty Discount Applied' or 'No Discount'.\n",
        "\n",
        "purchased_item = int(input(' Enter the Number purchased item:  '))\n",
        "total_spent = int(input('Enter the amount of the purchased item:  '))\n",
        "is_gold_member = input('Are you Gold Member (yes/no): ').strip().lower() in ['yes','y']\n",
        "\n",
        "if (purchased_item >10 and total_spent > 50000) or is_gold_member:\n",
        "    print('\\nLoyalty Discount Applied')\n",
        "    if is_gold_member:\n",
        "      print(\"\\nYou are a Gold Member\")\n",
        "else:\n",
        "    print('No Discount')\n"
      ]
    }
  ],
  "metadata": {
    "kernelspec": {
      "display_name": "Python 3",
      "language": "python",
      "name": "python3"
    },
    "language_info": {
      "codemirror_mode": {
        "name": "ipython",
        "version": 3
      },
      "file_extension": ".py",
      "mimetype": "text/x-python",
      "name": "python",
      "nbconvert_exporter": "python",
      "pygments_lexer": "ipython3",
      "version": "3.13.7"
    },
    "colab": {
      "provenance": []
    }
  },
  "nbformat": 4,
  "nbformat_minor": 5
}
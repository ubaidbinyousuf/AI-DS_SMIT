{
  "nbformat": 4,
  "nbformat_minor": 0,
  "metadata": {
    "colab": {
      "provenance": []
    },
    "kernelspec": {
      "name": "python3",
      "display_name": "Python 3"
    },
    "language_info": {
      "name": "python"
    }
  },
  "cells": [
    {
      "cell_type": "code",
      "execution_count": 16,
      "metadata": {
        "id": "hdqj6gNA8tEZ",
        "colab": {
          "base_uri": "https://localhost:8080/"
        },
        "outputId": "34049c3c-a40e-42ac-87d4-1a1dc55dba6b"
      },
      "outputs": [
        {
          "output_type": "stream",
          "name": "stdout",
          "text": [
            "['Std1', 'Std2', 'Std3', 'Std4', 'Std5']\n",
            "['Std1', 'Std2', 'Std3', 'Std4', 'Std5', 'Std6']\n",
            "['Std1', 'Std2', 'Std7', 'Std3', 'Std4', 'Std5', 'Std6']\n",
            "['Std1', 'Std2', 'Std3', 'Std4', 'Std5', 'Std6']\n",
            "['Std1', 'Std2', 'Std3', 'Std4', 'Std5', 'Std6']\n"
          ]
        }
      ],
      "source": [
        "#Create a list of 5 student names.\n",
        "#Add a new student using append().\n",
        "#Insert one name at index 2.\n",
        "#Remove one name using remove().\n",
        "#Finally, sort the list.\n",
        "\n",
        "students = ['Std1','Std2','Std3','Std4','Std5']\n",
        "print(students)\n",
        "\n",
        "students.append('Std6')\n",
        "print(students)\n",
        "\n",
        "students.insert(2,'Std7')\n",
        "print(students)\n",
        "\n",
        "students.remove('Std7')\n",
        "print(students)\n",
        "\n",
        "students.sort()\n",
        "\n",
        "print(students)\n"
      ]
    },
    {
      "cell_type": "code",
      "source": [
        "# Create a list of numbers and use pop() to remove the last two items.\n",
        "\n",
        "num  = [1,2,3,4,5,6,7,8,9]\n",
        "print(num)\n",
        "\n",
        "num.pop()\n",
        "num.pop()\n",
        "\n",
        "print(num)"
      ],
      "metadata": {
        "colab": {
          "base_uri": "https://localhost:8080/"
        },
        "id": "1qH76deRG0_H",
        "outputId": "520393e4-892c-4caf-d154-6df0f0ef26a6"
      },
      "execution_count": 24,
      "outputs": [
        {
          "output_type": "stream",
          "name": "stdout",
          "text": [
            "[1, 2, 3, 4, 5, 6, 7, 8, 9]\n",
            "[1, 2, 3, 4, 5, 6, 7]\n"
          ]
        }
      ]
    },
    {
      "cell_type": "code",
      "source": [
        "#  Make a list of 5 countries. Use insert() to add one at index 3, then use count() to count a specific country.\n",
        "\n",
        "countries = ['kenya','Maldive','Malawi', 'India', 'Pakistan']\n",
        "\n",
        "countries.insert(3,'Niger')\n",
        "countries_count = countries.count('Pakistan')\n",
        "\n",
        "print('List of the Countries:  ', countries)\n",
        "print('Country Count Pakistan:  ',countries_count)"
      ],
      "metadata": {
        "colab": {
          "base_uri": "https://localhost:8080/"
        },
        "id": "jM9JLlI4KAEy",
        "outputId": "243a65ae-502e-4f81-b6e2-c3a42d9c9b63"
      },
      "execution_count": 38,
      "outputs": [
        {
          "output_type": "stream",
          "name": "stdout",
          "text": [
            "List of the Countries:   ['kenya', 'Maldive', 'Malawi', 'Niger', 'India', 'Pakistan']\n",
            "Country Count Pakistan:   1\n"
          ]
        }
      ]
    },
    {
      "cell_type": "code",
      "source": [
        "#  Create a list of integers. Use sort() and then reverse() to show them in descending order.\n",
        "\n",
        "Int = [6,7,8,1,2,3,4,5]\n",
        "\n",
        "Int.sort()\n",
        "print('Sorted list: ', Int)\n",
        "\n",
        "Int.reverse()\n",
        "print('Reveresed List: ', Int)"
      ],
      "metadata": {
        "colab": {
          "base_uri": "https://localhost:8080/"
        },
        "id": "NYuoWJmBLkt2",
        "outputId": "dd460008-89ba-4793-8274-0188237759e6"
      },
      "execution_count": 40,
      "outputs": [
        {
          "output_type": "stream",
          "name": "stdout",
          "text": [
            "Sorted list:  [1, 2, 3, 4, 5, 6, 7, 8]\n",
            "Reveresed List:  [8, 7, 6, 5, 4, 3, 2, 1]\n"
          ]
        }
      ]
    },
    {
      "cell_type": "code",
      "source": [
        " # Use copy() to duplicate a list. Change one element in the copy and show that the original list remains unchanged.\n",
        "\n",
        " original_list = ['A', 'B', 'C', 'D', 'E']\n",
        "\n",
        " list1 = original_list.copy()\n",
        " list1.pop()\n",
        "\n",
        " print('Original List: ', original_list)\n",
        " print('Duplicate and change list: ', list1)\n",
        "\n"
      ],
      "metadata": {
        "colab": {
          "base_uri": "https://localhost:8080/"
        },
        "id": "TdW-ny61OOeC",
        "outputId": "d2398dc8-f125-4a4b-c1ad-9de02307551a"
      },
      "execution_count": 41,
      "outputs": [
        {
          "output_type": "stream",
          "name": "stdout",
          "text": [
            "Original List:  ['A', 'B', 'C', 'D', 'E']\n",
            "Duplicate and change list:  ['A', 'B', 'C', 'D']\n"
          ]
        }
      ]
    },
    {
      "cell_type": "code",
      "source": [
        "#  Combine two lists of fruits and vegetables and check if 'apple' is present in the combined list.\n",
        "\n",
        "fruits = ['Apple', 'Banana', 'Mango', 'Orange']\n",
        "vegetables = ['Carrot', 'Potato', 'Tomato', 'Onion']\n",
        "\n",
        "\n",
        "print('Appli in Combined List', 'Apple' in fruits+vegetables)\n"
      ],
      "metadata": {
        "colab": {
          "base_uri": "https://localhost:8080/"
        },
        "id": "0mV6852WPxeh",
        "outputId": "08d35b0f-d541-407f-845f-b49b46764bae"
      },
      "execution_count": 45,
      "outputs": [
        {
          "output_type": "stream",
          "name": "stdout",
          "text": [
            "Appli in Combined List True\n"
          ]
        }
      ]
    },
    {
      "cell_type": "code",
      "source": [],
      "metadata": {
        "id": "w933rwpVQpms"
      },
      "execution_count": null,
      "outputs": []
    }
  ]
}
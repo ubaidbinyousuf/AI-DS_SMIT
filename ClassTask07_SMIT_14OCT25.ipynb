{
  "nbformat": 4,
  "nbformat_minor": 0,
  "metadata": {
    "colab": {
      "provenance": []
    },
    "kernelspec": {
      "name": "python3",
      "display_name": "Python 3"
    },
    "language_info": {
      "name": "python"
    }
  },
  "cells": [
    {
      "cell_type": "markdown",
      "source": [
        "# Task **01**"
      ],
      "metadata": {
        "id": "XgXAPljhVCFh"
      }
    },
    {
      "cell_type": "code",
      "execution_count": 5,
      "metadata": {
        "colab": {
          "base_uri": "https://localhost:8080/"
        },
        "id": "VQP7HylHSOH6",
        "outputId": "728333b9-b6ab-4aa1-f828-a929c22ba5ea"
      },
      "outputs": [
        {
          "output_type": "stream",
          "name": "stdout",
          "text": [
            "The cube of 1 =  1\n",
            "The cube of 2 =  8\n",
            "The cube of 3 =  27\n",
            "The cube of 4 =  64\n",
            "The cube of 5 =  125\n",
            "The cube of 6 =  216\n",
            "The cube of 7 =  343\n",
            "The cube of 8 =  512\n",
            "The cube of 9 =  729\n",
            "The cube of 10 =  1000\n",
            "The cube of 11 =  1331\n",
            "The cube of 12 =  1728\n",
            "The cube of 13 =  2197\n",
            "The cube of 14 =  2744\n",
            "The cube of 15 =  3375\n"
          ]
        }
      ],
      "source": [
        "# Print all numbers from 1 to 15 and show their cube\n",
        "\n",
        "for i in range (1,16):\n",
        "    print(f'The cube of {i} = ', i**3)"
      ]
    },
    {
      "cell_type": "markdown",
      "source": [
        "# Task **02**"
      ],
      "metadata": {
        "id": "QwGPdyXYVH_u"
      }
    },
    {
      "cell_type": "code",
      "source": [
        "# Print only the nam etht start with 'A' from the given list\n",
        "\n",
        "names = ['Ali', 'Sara', 'Asad', 'Hina', 'Ahson']\n",
        "startswith_A = []\n",
        "\n",
        "for name in names:\n",
        "    if name.startswith('A'):\n",
        "        startswith_A.append(name)\n",
        "\n",
        "print(f'List of the name that starts with A  = {startswith_A}')\n"
      ],
      "metadata": {
        "colab": {
          "base_uri": "https://localhost:8080/"
        },
        "id": "Uchxupq4TJbO",
        "outputId": "6de25d7f-3027-412c-a1b1-71c265f7df01"
      },
      "execution_count": 40,
      "outputs": [
        {
          "output_type": "stream",
          "name": "stdout",
          "text": [
            "List of the name that starts with A  = ['Ali', 'Asad', 'Ahson']\n"
          ]
        }
      ]
    },
    {
      "cell_type": "markdown",
      "source": [
        "# Task **03**"
      ],
      "metadata": {
        "id": "_juIiptMVKgd"
      }
    },
    {
      "cell_type": "code",
      "source": [
        "# Write a loop to find the sum of all even number between 50 and 100.\n",
        "sum = 0\n",
        "for i in range (50, 101):\n",
        "    sum = i + sum\n",
        "print(f'The Sum from 50 to 100  numbers =  {sum}')\n",
        "\n"
      ],
      "metadata": {
        "colab": {
          "base_uri": "https://localhost:8080/"
        },
        "id": "tfKQM6tHUNrC",
        "outputId": "923faa6e-3eed-45b3-ec25-b0cffa149376"
      },
      "execution_count": 7,
      "outputs": [
        {
          "output_type": "stream",
          "name": "stdout",
          "text": [
            "The Sum from 50 to 100  numbers =  3825\n"
          ]
        }
      ]
    },
    {
      "cell_type": "markdown",
      "source": [
        "# Task **04**"
      ],
      "metadata": {
        "id": "PA_UeP1-VRx9"
      }
    },
    {
      "cell_type": "code",
      "source": [
        "# Write a for loop to count how many uppercase\n",
        "\n",
        "string = 'HelloPYTHON'\n",
        "count = 0\n",
        "\n",
        "for char in string:\n",
        "    if char.isupper():\n",
        "        count += 1\n",
        "\n",
        "print(f'The count of the uppercase  is:  {count}')\n"
      ],
      "metadata": {
        "colab": {
          "base_uri": "https://localhost:8080/"
        },
        "id": "cbq4H1f2WIJN",
        "outputId": "d226bcd7-c41f-4c43-eced-d2dc8373a237"
      },
      "execution_count": 28,
      "outputs": [
        {
          "output_type": "stream",
          "name": "stdout",
          "text": [
            "The count of the uppercase  is:  7\n"
          ]
        }
      ]
    },
    {
      "cell_type": "code",
      "source": [],
      "metadata": {
        "id": "EfCQsR71XBaM"
      },
      "execution_count": null,
      "outputs": []
    }
  ]
}